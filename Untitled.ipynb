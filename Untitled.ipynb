{
 "cells": [
  {
   "cell_type": "markdown",
   "metadata": {},
   "source": [
    "# Partie pratique: application à des données réelles\n"
   ]
  },
  {
   "cell_type": "markdown",
   "metadata": {},
   "source": [
    "Les données suivantes concernent la croissance démographique de la France métropolitaine de 1946 à 2020( source: https://www.insee.fr/fr/statistiques/1892117?sommaire=1912926&fbclid=IwAR1op0uNnLUKua2lPZyCTRCbFyb8XOmb1YxqtVvxwLXx0QdVCr0i3O2Spls).nous considérons la variables 'population au 1er Janvier'."
   ]
  },
  {
   "cell_type": "code",
   "execution_count": 5,
   "metadata": {},
   "outputs": [
    {
     "data": {
      "text/html": [
       "<div>\n",
       "<style scoped>\n",
       "    .dataframe tbody tr th:only-of-type {\n",
       "        vertical-align: middle;\n",
       "    }\n",
       "\n",
       "    .dataframe tbody tr th {\n",
       "        vertical-align: top;\n",
       "    }\n",
       "\n",
       "    .dataframe thead th {\n",
       "        text-align: right;\n",
       "    }\n",
       "</style>\n",
       "<table border=\"1\" class=\"dataframe\">\n",
       "  <thead>\n",
       "    <tr style=\"text-align: right;\">\n",
       "      <th></th>\n",
       "      <th>date</th>\n",
       "      <th>population</th>\n",
       "    </tr>\n",
       "  </thead>\n",
       "  <tbody>\n",
       "    <tr>\n",
       "      <td>0</td>\n",
       "      <td>1946</td>\n",
       "      <td>40 125 230</td>\n",
       "    </tr>\n",
       "    <tr>\n",
       "      <td>1</td>\n",
       "      <td>1947</td>\n",
       "      <td>40 448 254</td>\n",
       "    </tr>\n",
       "    <tr>\n",
       "      <td>2</td>\n",
       "      <td>1948</td>\n",
       "      <td>40 910 569</td>\n",
       "    </tr>\n",
       "    <tr>\n",
       "      <td>3</td>\n",
       "      <td>1949</td>\n",
       "      <td>41 313 195</td>\n",
       "    </tr>\n",
       "    <tr>\n",
       "      <td>4</td>\n",
       "      <td>1950</td>\n",
       "      <td>41 647 258</td>\n",
       "    </tr>\n",
       "    <tr>\n",
       "      <td>...</td>\n",
       "      <td>...</td>\n",
       "      <td>...</td>\n",
       "    </tr>\n",
       "    <tr>\n",
       "      <td>70</td>\n",
       "      <td>2016</td>\n",
       "      <td>64 468 792</td>\n",
       "    </tr>\n",
       "    <tr>\n",
       "      <td>71</td>\n",
       "      <td>2017</td>\n",
       "      <td>64 639 133</td>\n",
       "    </tr>\n",
       "    <tr>\n",
       "      <td>72</td>\n",
       "      <td>2018</td>\n",
       "      <td>64 737 769</td>\n",
       "    </tr>\n",
       "    <tr>\n",
       "      <td>73</td>\n",
       "      <td>2019</td>\n",
       "      <td>64 821 954</td>\n",
       "    </tr>\n",
       "    <tr>\n",
       "      <td>74</td>\n",
       "      <td>2020</td>\n",
       "      <td>64 897 954</td>\n",
       "    </tr>\n",
       "  </tbody>\n",
       "</table>\n",
       "<p>75 rows × 2 columns</p>\n",
       "</div>"
      ],
      "text/plain": [
       "    date  population\n",
       "0   1946  40 125 230\n",
       "1   1947  40 448 254\n",
       "2   1948  40 910 569\n",
       "3   1949  41 313 195\n",
       "4   1950  41 647 258\n",
       "..   ...         ...\n",
       "70  2016  64 468 792\n",
       "71  2017  64 639 133\n",
       "72  2018  64 737 769\n",
       "73  2019  64 821 954\n",
       "74  2020  64 897 954\n",
       "\n",
       "[75 rows x 2 columns]"
      ]
     },
     "execution_count": 5,
     "metadata": {},
     "output_type": "execute_result"
    }
   ],
   "source": [
    "import pandas as pd\n",
    "from pandas import DataFrame\n",
    "%pwd\n",
    "serieX=pd.read_csv('Metro.csv',sep=';') \n",
    "serieX"
   ]
  },
  {
   "cell_type": "code",
   "execution_count": 6,
   "metadata": {},
   "outputs": [],
   "source": [
    "X=serieX['population']\n",
    "Z=X.values.tolist()\n"
   ]
  },
  {
   "cell_type": "code",
   "execution_count": 7,
   "metadata": {},
   "outputs": [],
   "source": [
    "Z=[40125230,\n",
    " 40448254,\n",
    " 40910569,\n",
    " 41313195,\n",
    " 41647258,\n",
    " 42010088,\n",
    " 42300981,\n",
    " 42618354,\n",
    " 42885138,\n",
    " 43227872,\n",
    " 43627467,\n",
    " 44058683,\n",
    " 44563043,\n",
    " 45014662,\n",
    " 45464797,\n",
    " 45903656,\n",
    " 46422000,\n",
    " 47573406,\n",
    " 48059029,\n",
    " 48561800,\n",
    " 48953792,\n",
    " 49373537,\n",
    " 49723072,\n",
    " 50107735,\n",
    " 50528219,\n",
    " 51016234,\n",
    " 51485953,\n",
    " 51915873,\n",
    " 52320725,\n",
    " 52600000,\n",
    " 52798338,\n",
    " 53019005,\n",
    " 53271566,\n",
    " 53481073,\n",
    " 53731387,\n",
    " 54028630,\n",
    " 54335000,\n",
    " 54649984,\n",
    " 54894854,\n",
    " 55157303,\n",
    " 55411238,\n",
    " 55681780,\n",
    " 55966142,\n",
    " 56269810,\n",
    " 56577000,\n",
    " 56840661,\n",
    " 57110533,\n",
    " 57369161,\n",
    " 57565008,\n",
    " 57752535,\n",
    " 57935959,\n",
    " 58116018,\n",
    " 58298962,\n",
    " 58496613,\n",
    " 58858198,\n",
    " 59266572,\n",
    " 59685899,\n",
    " 60101841,\n",
    " 60505421,\n",
    " 60963264,\n",
    " 61399733,\n",
    " 61795238,\n",
    " 62134866,\n",
    " 62465709,\n",
    " 62765235,\n",
    " 63070344,\n",
    " 63375971,\n",
    " 63697865,\n",
    " 64027958,\n",
    " 64300821,\n",
    " 64468792,\n",
    " 64639133,\n",
    " 64737769,\n",
    " 64821954,\n",
    " 64897954]"
   ]
  },
  {
   "cell_type": "markdown",
   "metadata": {},
   "source": [
    "matrice de régression de la variable population avec un retard égale à 10 "
   ]
  },
  {
   "cell_type": "code",
   "execution_count": 8,
   "metadata": {},
   "outputs": [
    {
     "data": {
      "text/plain": [
       "array([[64821954., 64737769., 64639133., 64468792., 64300821., 64027958.,\n",
       "        63697865., 63375971., 63070344., 62765235.],\n",
       "       [64737769., 64639133., 64468792., 64300821., 64027958., 63697865.,\n",
       "        63375971., 63070344., 62765235., 62465709.],\n",
       "       [64639133., 64468792., 64300821., 64027958., 63697865., 63375971.,\n",
       "        63070344., 62765235., 62465709., 62134866.],\n",
       "       [64468792., 64300821., 64027958., 63697865., 63375971., 63070344.,\n",
       "        62765235., 62465709., 62134866., 61795238.],\n",
       "       [64300821., 64027958., 63697865., 63375971., 63070344., 62765235.,\n",
       "        62465709., 62134866., 61795238., 61399733.],\n",
       "       [64027958., 63697865., 63375971., 63070344., 62765235., 62465709.,\n",
       "        62134866., 61795238., 61399733., 60963264.],\n",
       "       [63697865., 63375971., 63070344., 62765235., 62465709., 62134866.,\n",
       "        61795238., 61399733., 60963264., 60505421.],\n",
       "       [63375971., 63070344., 62765235., 62465709., 62134866., 61795238.,\n",
       "        61399733., 60963264., 60505421., 60101841.],\n",
       "       [63070344., 62765235., 62465709., 62134866., 61795238., 61399733.,\n",
       "        60963264., 60505421., 60101841., 59685899.],\n",
       "       [62765235., 62465709., 62134866., 61795238., 61399733., 60963264.,\n",
       "        60505421., 60101841., 59685899., 59266572.],\n",
       "       [62465709., 62134866., 61795238., 61399733., 60963264., 60505421.,\n",
       "        60101841., 59685899., 59266572., 58858198.],\n",
       "       [62134866., 61795238., 61399733., 60963264., 60505421., 60101841.,\n",
       "        59685899., 59266572., 58858198., 58496613.],\n",
       "       [61795238., 61399733., 60963264., 60505421., 60101841., 59685899.,\n",
       "        59266572., 58858198., 58496613., 58298962.],\n",
       "       [61399733., 60963264., 60505421., 60101841., 59685899., 59266572.,\n",
       "        58858198., 58496613., 58298962., 58116018.],\n",
       "       [60963264., 60505421., 60101841., 59685899., 59266572., 58858198.,\n",
       "        58496613., 58298962., 58116018., 57935959.],\n",
       "       [60505421., 60101841., 59685899., 59266572., 58858198., 58496613.,\n",
       "        58298962., 58116018., 57935959., 57752535.],\n",
       "       [60101841., 59685899., 59266572., 58858198., 58496613., 58298962.,\n",
       "        58116018., 57935959., 57752535., 57565008.],\n",
       "       [59685899., 59266572., 58858198., 58496613., 58298962., 58116018.,\n",
       "        57935959., 57752535., 57565008., 57369161.],\n",
       "       [59266572., 58858198., 58496613., 58298962., 58116018., 57935959.,\n",
       "        57752535., 57565008., 57369161., 57110533.],\n",
       "       [58858198., 58496613., 58298962., 58116018., 57935959., 57752535.,\n",
       "        57565008., 57369161., 57110533., 56840661.],\n",
       "       [58496613., 58298962., 58116018., 57935959., 57752535., 57565008.,\n",
       "        57369161., 57110533., 56840661., 56577000.],\n",
       "       [58298962., 58116018., 57935959., 57752535., 57565008., 57369161.,\n",
       "        57110533., 56840661., 56577000., 56269810.],\n",
       "       [58116018., 57935959., 57752535., 57565008., 57369161., 57110533.,\n",
       "        56840661., 56577000., 56269810., 55966142.],\n",
       "       [57935959., 57752535., 57565008., 57369161., 57110533., 56840661.,\n",
       "        56577000., 56269810., 55966142., 55681780.],\n",
       "       [57752535., 57565008., 57369161., 57110533., 56840661., 56577000.,\n",
       "        56269810., 55966142., 55681780., 55411238.],\n",
       "       [57565008., 57369161., 57110533., 56840661., 56577000., 56269810.,\n",
       "        55966142., 55681780., 55411238., 55157303.],\n",
       "       [57369161., 57110533., 56840661., 56577000., 56269810., 55966142.,\n",
       "        55681780., 55411238., 55157303., 54894854.],\n",
       "       [57110533., 56840661., 56577000., 56269810., 55966142., 55681780.,\n",
       "        55411238., 55157303., 54894854., 54649984.],\n",
       "       [56840661., 56577000., 56269810., 55966142., 55681780., 55411238.,\n",
       "        55157303., 54894854., 54649984., 54335000.],\n",
       "       [56577000., 56269810., 55966142., 55681780., 55411238., 55157303.,\n",
       "        54894854., 54649984., 54335000., 54028630.],\n",
       "       [56269810., 55966142., 55681780., 55411238., 55157303., 54894854.,\n",
       "        54649984., 54335000., 54028630., 53731387.],\n",
       "       [55966142., 55681780., 55411238., 55157303., 54894854., 54649984.,\n",
       "        54335000., 54028630., 53731387., 53481073.],\n",
       "       [55681780., 55411238., 55157303., 54894854., 54649984., 54335000.,\n",
       "        54028630., 53731387., 53481073., 53271566.],\n",
       "       [55411238., 55157303., 54894854., 54649984., 54335000., 54028630.,\n",
       "        53731387., 53481073., 53271566., 53019005.],\n",
       "       [55157303., 54894854., 54649984., 54335000., 54028630., 53731387.,\n",
       "        53481073., 53271566., 53019005., 52798338.],\n",
       "       [54894854., 54649984., 54335000., 54028630., 53731387., 53481073.,\n",
       "        53271566., 53019005., 52798338., 52600000.],\n",
       "       [54649984., 54335000., 54028630., 53731387., 53481073., 53271566.,\n",
       "        53019005., 52798338., 52600000., 52320725.],\n",
       "       [54335000., 54028630., 53731387., 53481073., 53271566., 53019005.,\n",
       "        52798338., 52600000., 52320725., 51915873.],\n",
       "       [54028630., 53731387., 53481073., 53271566., 53019005., 52798338.,\n",
       "        52600000., 52320725., 51915873., 51485953.],\n",
       "       [53731387., 53481073., 53271566., 53019005., 52798338., 52600000.,\n",
       "        52320725., 51915873., 51485953., 51016234.],\n",
       "       [53481073., 53271566., 53019005., 52798338., 52600000., 52320725.,\n",
       "        51915873., 51485953., 51016234., 50528219.],\n",
       "       [53271566., 53019005., 52798338., 52600000., 52320725., 51915873.,\n",
       "        51485953., 51016234., 50528219., 50107735.],\n",
       "       [53019005., 52798338., 52600000., 52320725., 51915873., 51485953.,\n",
       "        51016234., 50528219., 50107735., 49723072.],\n",
       "       [52798338., 52600000., 52320725., 51915873., 51485953., 51016234.,\n",
       "        50528219., 50107735., 49723072., 49373537.],\n",
       "       [52600000., 52320725., 51915873., 51485953., 51016234., 50528219.,\n",
       "        50107735., 49723072., 49373537., 48953792.],\n",
       "       [52320725., 51915873., 51485953., 51016234., 50528219., 50107735.,\n",
       "        49723072., 49373537., 48953792., 48561800.],\n",
       "       [51915873., 51485953., 51016234., 50528219., 50107735., 49723072.,\n",
       "        49373537., 48953792., 48561800., 48059029.],\n",
       "       [51485953., 51016234., 50528219., 50107735., 49723072., 49373537.,\n",
       "        48953792., 48561800., 48059029., 47573406.],\n",
       "       [51016234., 50528219., 50107735., 49723072., 49373537., 48953792.,\n",
       "        48561800., 48059029., 47573406., 46422000.],\n",
       "       [50528219., 50107735., 49723072., 49373537., 48953792., 48561800.,\n",
       "        48059029., 47573406., 46422000., 45903656.],\n",
       "       [50107735., 49723072., 49373537., 48953792., 48561800., 48059029.,\n",
       "        47573406., 46422000., 45903656., 45464797.],\n",
       "       [49723072., 49373537., 48953792., 48561800., 48059029., 47573406.,\n",
       "        46422000., 45903656., 45464797., 45014662.],\n",
       "       [49373537., 48953792., 48561800., 48059029., 47573406., 46422000.,\n",
       "        45903656., 45464797., 45014662., 44563043.],\n",
       "       [48953792., 48561800., 48059029., 47573406., 46422000., 45903656.,\n",
       "        45464797., 45014662., 44563043., 44058683.],\n",
       "       [48561800., 48059029., 47573406., 46422000., 45903656., 45464797.,\n",
       "        45014662., 44563043., 44058683., 43627467.],\n",
       "       [48059029., 47573406., 46422000., 45903656., 45464797., 45014662.,\n",
       "        44563043., 44058683., 43627467., 43227872.],\n",
       "       [47573406., 46422000., 45903656., 45464797., 45014662., 44563043.,\n",
       "        44058683., 43627467., 43227872., 42885138.],\n",
       "       [46422000., 45903656., 45464797., 45014662., 44563043., 44058683.,\n",
       "        43627467., 43227872., 42885138., 42618354.],\n",
       "       [45903656., 45464797., 45014662., 44563043., 44058683., 43627467.,\n",
       "        43227872., 42885138., 42618354., 42300981.],\n",
       "       [45464797., 45014662., 44563043., 44058683., 43627467., 43227872.,\n",
       "        42885138., 42618354., 42300981., 42010088.],\n",
       "       [45014662., 44563043., 44058683., 43627467., 43227872., 42885138.,\n",
       "        42618354., 42300981., 42010088., 41647258.],\n",
       "       [44563043., 44058683., 43627467., 43227872., 42885138., 42618354.,\n",
       "        42300981., 42010088., 41647258., 41313195.],\n",
       "       [44058683., 43627467., 43227872., 42885138., 42618354., 42300981.,\n",
       "        42010088., 41647258., 41313195., 40910569.],\n",
       "       [43627467., 43227872., 42885138., 42618354., 42300981., 42010088.,\n",
       "        41647258., 41313195., 40910569., 40448254.],\n",
       "       [43227872., 42885138., 42618354., 42300981., 42010088., 41647258.,\n",
       "        41313195., 40910569., 40448254., 40125230.]])"
      ]
     },
     "execution_count": 8,
     "metadata": {},
     "output_type": "execute_result"
    }
   ],
   "source": [
    "prep_mat(Z,10)"
   ]
  },
  {
   "cell_type": "markdown",
   "metadata": {},
   "source": [
    "## moindres carrées "
   ]
  },
  {
   "cell_type": "markdown",
   "metadata": {},
   "source": [
    "### Calcul de l'éstimateur des Moindres Carrées  pour Z avec h=10 lamba=0 alpha=beta=0"
   ]
  },
  {
   "cell_type": "code",
   "execution_count": 9,
   "metadata": {},
   "outputs": [
    {
     "data": {
      "text/plain": [
       "array([ 1.55332502, -0.31470138, -0.26169215,  0.0755491 , -0.02980769,\n",
       "       -0.07840716,  0.12222638,  0.02160075, -0.12880725,  0.04117418])"
      ]
     },
     "execution_count": 9,
     "metadata": {},
     "output_type": "execute_result"
    }
   ],
   "source": [
    "b1=ridge(Z,Z,0,10,0,0)\n",
    "b1"
   ]
  },
  {
   "cell_type": "markdown",
   "metadata": {},
   "source": [
    "representation graphique de l'estimateur de ridge "
   ]
  },
  {
   "cell_type": "code",
   "execution_count": 11,
   "metadata": {},
   "outputs": [
    {
     "data": {
      "image/png": "[encoded data removed]",
      "text/plain": [
       "<Figure size 432x288 with 1 Axes>"
      ]
     },
     "metadata": {
      "needs_background": "light"
     },
     "output_type": "display_data"
    }
   ],
   "source": [
    "import matplotlib as plt\n",
    "import matplotlib.pyplot as plt\n",
    "plt.plot(b1)\n",
    "plt.title('Estimateur des moindres carrées pour alpha=beta=0')\n",
    "plt.grid()\n",
    "plt.show()"
   ]
  },
  {
   "cell_type": "code",
   "execution_count": 12,
   "metadata": {},
   "outputs": [
    {
     "data": {
      "text/plain": [
       "array([ 1.55332502, -0.31470138, -0.26169215,  0.0755491 , -0.02980769,\n",
       "       -0.07840716,  0.12222638,  0.02160075, -0.12880725,  0.04117418])"
      ]
     },
     "execution_count": 12,
     "metadata": {},
     "output_type": "execute_result"
    }
   ],
   "source": [
    "b2=ridge(Z,Z,0,10,1,1)\n",
    "b2"
   ]
  },
  {
   "cell_type": "code",
   "execution_count": 13,
   "metadata": {},
   "outputs": [
    {
     "data": {
      "image/png": "[encoded data removed]",
      "text/plain": [
       "<Figure size 432x288 with 1 Axes>"
      ]
     },
     "metadata": {
      "needs_background": "light"
     },
     "output_type": "display_data"
    }
   ],
   "source": [
    "plt.plot(b2)\n",
    "plt.title('Estimateur des moindres carrées  pour alpha=beta=1')\n",
    "plt.grid()\n",
    "plt.show()"
   ]
  },
  {
   "cell_type": "markdown",
   "metadata": {},
   "source": [
    "### prédiction des 5 prchaines valeurs de la variables population avec la méthode des moindres carrées "
   ]
  },
  {
   "cell_type": "markdown",
   "metadata": {},
   "source": [
    "pour alpha=beta=0"
   ]
  },
  {
   "cell_type": "code",
   "execution_count": 14,
   "metadata": {},
   "outputs": [
    {
     "data": {
      "text/plain": [
       "[65022221.77982836,\n",
       " 65170109.37348398,\n",
       " 65328054.9816555,\n",
       " 65492727.15175071,\n",
       " 65665966.499551445]"
      ]
     },
     "execution_count": 14,
     "metadata": {},
     "output_type": "execute_result"
    }
   ],
   "source": [
    "P1=Prev_p(Z,0,10,0,0,5)\n",
    "P1"
   ]
  },
  {
   "cell_type": "code",
   "execution_count": 15,
   "metadata": {},
   "outputs": [
    {
     "data": {
      "image/png": "[encoded data removed]",
      "text/plain": [
       "<Figure size 432x288 with 1 Axes>"
      ]
     },
     "metadata": {
      "needs_background": "light"
     },
     "output_type": "display_data"
    }
   ],
   "source": [
    "plt.plot(P1)\n",
    "plt.title('prediction des 5 prochaine valeurs de la population pour alpha=beta=0')\n",
    "plt.grid()\n",
    "plt.show()"
   ]
  },
  {
   "cell_type": "markdown",
   "metadata": {},
   "source": [
    "pour alpha=beta=1"
   ]
  },
  {
   "cell_type": "code",
   "execution_count": 18,
   "metadata": {},
   "outputs": [
    {
     "data": {
      "text/plain": [
       "[65022221.77982836,\n",
       " 65170109.37348398,\n",
       " 65328054.9816555,\n",
       " 65492727.15175071,\n",
       " 65665966.499551445]"
      ]
     },
     "execution_count": 18,
     "metadata": {},
     "output_type": "execute_result"
    }
   ],
   "source": [
    "P2=Prev_p(Z,0,10,1,1,5)\n",
    "P2\n"
   ]
  },
  {
   "cell_type": "code",
   "execution_count": 19,
   "metadata": {},
   "outputs": [
    {
     "data": {
      "image/png": "[encoded data removed]",
      "text/plain": [
       "<Figure size 432x288 with 1 Axes>"
      ]
     },
     "metadata": {
      "needs_background": "light"
     },
     "output_type": "display_data"
    }
   ],
   "source": [
    "plt.plot(P2)\n",
    "plt.title('prediction des 5 prochaine valeurs de la population pour alpha=beta=1')\n",
    "plt.grid()\n",
    "plt.show()"
   ]
  },
  {
   "cell_type": "markdown",
   "metadata": {},
   "source": [
    "## méthode de ridge \n"
   ]
  },
  {
   "cell_type": "markdown",
   "metadata": {},
   "source": [
    "Estimateur de ridge pour alpha=beta=0 et lambda=0.1"
   ]
  },
  {
   "cell_type": "code",
   "execution_count": 20,
   "metadata": {},
   "outputs": [
    {
     "data": {
      "text/plain": [
       "array([ 1.55332502, -0.31470138, -0.26169215,  0.0755491 , -0.02980769,\n",
       "       -0.07840716,  0.12222638,  0.02160075, -0.12880725,  0.04117418])"
      ]
     },
     "execution_count": 20,
     "metadata": {},
     "output_type": "execute_result"
    }
   ],
   "source": [
    "br=ridge(Z,Z,0.1,10,0,0)\n",
    "br"
   ]
  },
  {
   "cell_type": "code",
   "execution_count": 21,
   "metadata": {},
   "outputs": [
    {
     "data": {
      "image/png": "[encoded data removed]",
      "text/plain": [
       "<Figure size 432x288 with 1 Axes>"
      ]
     },
     "metadata": {
      "needs_background": "light"
     },
     "output_type": "display_data"
    }
   ],
   "source": [
    "plt.plot(br)\n",
    "plt.title('Estimateur de ridge de la population  pour alpha=beta=0, lambda =0.1')\n",
    "plt.grid()\n",
    "plt.show()"
   ]
  },
  {
   "cell_type": "markdown",
   "metadata": {},
   "source": [
    "Validation croisé pour séléctioner le meilleur modéle pour Z, avec h=10, alpha=beta=0.1"
   ]
  },
  {
   "cell_type": "code",
   "execution_count": 22,
   "metadata": {},
   "outputs": [
    {
     "name": "stdout",
     "output_type": "stream",
     "text": [
      "[295123069174.5847, 295123069174.5847, 295123069174.5847, 295123069174.5847, 295123069174.5847, 295123069174.5847, 295123069174.5847, 295123069174.5847, 295123069174.5847, 295123086739.4739, 295123042428.5716, 295123078268.2583]\n"
     ]
    },
    {
     "data": {
      "text/plain": [
       "(295123042428.5716, 0.2)"
      ]
     },
     "execution_count": 22,
     "metadata": {},
     "output_type": "execute_result"
    }
   ],
   "source": [
    "cross_validation (Z,10,0.1,0.1)"
   ]
  },
  {
   "cell_type": "markdown",
   "metadata": {},
   "source": [
    "donc le meilleur lambda est égale à 0.2 "
   ]
  },
  {
   "cell_type": "markdown",
   "metadata": {},
   "source": [
    "éstimation des 5 prochaines valeurs da la série avec le lambda sélécioné par la validation croisé "
   ]
  },
  {
   "cell_type": "code",
   "execution_count": 24,
   "metadata": {},
   "outputs": [
    {
     "data": {
      "text/plain": [
       "[65022221.779142454,\n",
       " 65170109.40005969,\n",
       " 65328055.03026077,\n",
       " 65492727.2120188,\n",
       " 65665966.57178766]"
      ]
     },
     "execution_count": 24,
     "metadata": {},
     "output_type": "execute_result"
    }
   ],
   "source": [
    "Pr=Prev_p(Z,1,10,0.1,0.1,5)\n",
    "Pr"
   ]
  },
  {
   "cell_type": "code",
   "execution_count": 25,
   "metadata": {},
   "outputs": [
    {
     "data": {
      "image/png": "[encoded data removed]",
      "text/plain": [
       "<Figure size 432x288 with 1 Axes>"
      ]
     },
     "metadata": {
      "needs_background": "light"
     },
     "output_type": "display_data"
    }
   ],
   "source": [
    "plt.plot(Pr)\n",
    "plt.title('prediction des 5 prochaine valeurs de la population pour alpha=beta=0.1 avec le lambda selectioné par lavalidation croisé ')\n",
    "plt.grid()\n",
    "plt.show()"
   ]
  },
  {
   "cell_type": "markdown",
   "metadata": {},
   "source": [
    "comparaison des méthodes "
   ]
  },
  {
   "cell_type": "code",
   "execution_count": 26,
   "metadata": {},
   "outputs": [],
   "source": [
    "#matrice de regression\n",
    "import numpy as np\n",
    "global n\n",
    "def prep_mat(Z,h):\n",
    "    \"\"\"\n",
    "    Arguments:\n",
    "    Z vecteur (serie temporelle)\n",
    "    h horizon entier positive inferieur à la longueur de Z\n",
    "    Returns:\n",
    "    Mat_X  matrice de dimension nxp\n",
    "    \"\"\"\n",
    "    n=len(Z)-h #p ici coincide avec h\n",
    "    T=np.zeros((n,h))\n",
    "    for i in range(n):\n",
    "        l=Z[len(Z)-1-h-i:len(Z)-i-1]\n",
    "        T[i:]=l[::-1]\n",
    "        Mat_X=T[:,0:h]\n",
    "\n",
    "    return Mat_X\n",
    "#matrice de la métrique\n",
    "import math \n",
    "def metr_retard(alpha,beta,h):\n",
    "    M=np.eye(h) #métrique pour la norme de b\n",
    "    for j in range(h) :\n",
    "          M[j,j]  = math.exp(alpha+ j*beta)\n",
    "    return M\n",
    "\n",
    "def metr(n):\n",
    "    W=np.eye(n) #métrique pour calculer les produits scalaires entre séries\n",
    "    for j in range(n) :\n",
    "          W[j,j]  = 1/n\n",
    "    return W\n",
    "\n",
    "# regression ridge\n",
    "def ridge(Z,Y,Lambda,h,alpha,beta):\n",
    "    global n\n",
    "    \"\"\"\"\n",
    "    Arguments : \n",
    "    Z     : vecteur (série temporelle)\n",
    "    Y     : vecteur (série temporelle)\n",
    "    Lambda: facteurs de pénalisation \n",
    "    h     : horizon \n",
    "    (alpha,beta) : des reels positives pour construir la matrice de la metrique \n",
    "    returns:\n",
    "    b     : estimateur de ridge \n",
    "    \"\"\"\n",
    "    \n",
    "    \n",
    "    n=len(Z)-h\n",
    "    M=metr_retard(alpha,beta,h)# métrique M\n",
    "    x=prep_mat(Z,h)# la matrice X(t-1,t-h)\n",
    "    W=metr(n)     #la etrique du produit scalaire \n",
    "    \n",
    "    # ajustement  de la dimension de Y\n",
    "    T=Y[h:len(Z)]\n",
    "    y=T[::-1]#les h derniers coeficients de y\n",
    "    \n",
    "    #calcul de l'estimateur de ridge (X'WX+λM)^(-1)X'Wy\n",
    "    \n",
    "    J1=np.transpose(x).dot(W) \n",
    "    J2=J1.dot(x)\n",
    "    B=np.linalg.inv(J2+Lambda*M)\n",
    "    b1=B.dot(np.transpose(x))\n",
    "    b2=b1.dot(W)\n",
    "    b=b2.dot(y)\n",
    "    return b\n",
    "# fonction qui fait une seule prevision \n",
    "def Prev(Z,Lambda,h,alpha,beta):\n",
    "    \"\"\"\n",
    "    Arguments : \n",
    "    Z     : vecteur (série temporelle)\n",
    "    Zp    : valeur à prédire (entiers)\n",
    "    Y     : vecteur (série temporelle)\n",
    "    Lambda: facteurs de pénalisation \n",
    "    h     : horizon \n",
    "    (alpha,beta) : des reels positives pour construir la matrice de la metrique \n",
    "    returns:\n",
    "    Zp    : valeur à prédire (entiers)\n",
    "    \n",
    "    \"\"\"\n",
    "    ## nouveau vecteur de contenant la valeur Z_t\n",
    "    g=len(Z)\n",
    "    t=Z[g-h:g]\n",
    "    p=t[::-1]\n",
    "    Zt=np.array(p)\n",
    "    #prevision de Z(t+1)\n",
    "    b=ridge(Z,Z,Lambda,h,alpha,beta)\n",
    "    Zp=Zt.dot(np.transpose(b))\n",
    "    return Zp\n",
    "\n",
    "# prévision des p futures valeurs \n",
    "\n",
    "def Prev_p(Z,Lambda,h,alpha,beta,p):\n",
    "    \"\"\"\n",
    "    Arguments : \n",
    "    Z     : vecteur (série temporelle)\n",
    "    Zp    : valeur à prédire (entiers)\n",
    "    Y     : vecteur (série temporelle)\n",
    "    Lambda: facteurs de pénalisation \n",
    "    h     : horizon \n",
    "    p     : nombre de valeurs à prédire \n",
    "    (alpha,beta) : des reels positives pour construir la matrice de la metrique \n",
    "    returns:\n",
    "    p_predicted_values :vecteurs contient les  p valeurs à prédire (entiers)\n",
    "    \n",
    "    \"\"\"\n",
    "    np.array(Z)\n",
    "    Zp=Prev(Z,Lambda,h,alpha,beta)\n",
    "    p_predicted_values=list(range(p))\n",
    "    for i in range(p) :\n",
    "         p_predicted_values[i]=Zp\n",
    "         Z=Z+[Zp]\n",
    "         Zp=Prev(Z,Lambda,h,alpha,beta)\n",
    "         i=i+1\n",
    "    return p_predicted_values\n",
    "        \n",
    "# fonction de l'érreur quadratique moyenne\n",
    "def MSE(b_ridge,b_real):\n",
    "    np.array(b_ridge)\n",
    "    np.array(b_real)\n",
    "    mse=0\n",
    "    for i in range(len(b_real)):\n",
    "        mse=mse + (b_ridge[i]-b_real[i])**2\n",
    "        i=i+1\n",
    "    MSE=mse/len(b_real)\n",
    "   \n",
    "    return MSE\n",
    "       \n",
    "# validation croisée \n",
    "def cross_validation (Z,h,alpha,beta):\n",
    "\n",
    "    \n",
    "    \"\"\"\n",
    "    \n",
    "    fonction qui calcule l'estimateur de ridge pour plusier valeur de λ sur l'ensemble de training \n",
    "    (75% des valeurs de la série).\n",
    "    calcule les predictions des K valeurs manquantes selon chaque modèle  \n",
    "    \n",
    "    \n",
    "    Arguments :\n",
    "    Z         :Vecteur (série temporelle)\n",
    "    h         : horizon entier ne doit pas depasser len(Z)-K\n",
    "    (alpha,beta)     : des reels positives pour construir la matrice de la metrique\n",
    "    \n",
    "    returns   : \n",
    "    mse       : vecteur qui contient les erreurs quadratiques moyennes commise \n",
    "    Min_mse   : le minimum du vecteur mse \n",
    "    meilleur_lamda: le lambda du meilleure modèle par la validation croisée \n",
    "    \"\"\"\n",
    "    \n",
    "    lamda=[0.01,0.02,0.03,0.04,0.05,0.06,0.07,0.08,0.09,0.1,0.2,0.3]\n",
    "    mse=[0.01,0.02,0.03,0.04,0.05,0.06,0.07,0.08,0.09,0.1,0.2,0.3]#\n",
    "    for i in range(len(lamda)):\n",
    "        K=int(len(Z)*25/100)\n",
    "        Z_test=Z[len(Z)-K:len(Z)]#tester la qualité de modéle\n",
    "        Z_train=Z[:len(Z)-K]#vecteur qui contient 75% des valeurs de la série pour calculer l'éstimateur de ridge\n",
    "        Lambda=lamda[i]\n",
    "        #prep_mat(Z_train,h)\n",
    "        b_train=ridge(Z_train,Z_train,Lambda,h,alpha,beta)\n",
    "        #print(\"b\",i,b_train)\n",
    "        zp=Prev_p(Z_train,Lambda,h,alpha,beta,K)\n",
    "        #print(\"Zp\",i,zp)\n",
    "        theta=MSE(Z_test,zp)\n",
    "        mse[i]=theta\n",
    "    print(mse)\n",
    "    Min_mse=min(mse)\n",
    "    index_lamda=mse.index(min(mse))\n",
    "    meilleur_lamda=lamda[index_lamda]\n",
    "    return Min_mse , meilleur_lamda\n"
   ]
  }
 ],
 "metadata": {
  "kernelspec": {
   "display_name": "Python 3",
   "language": "python",
   "name": "python3"
  },
  "language_info": {
   "codemirror_mode": {
    "name": "ipython",
    "version": 3
   },
   "file_extension": ".py",
   "mimetype": "text/x-python",
   "name": "python",
   "nbconvert_exporter": "python",
   "pygments_lexer": "ipython3",
   "version": "3.7.4"
  }
 },
 "nbformat": 4,
 "nbformat_minor": 2
}
