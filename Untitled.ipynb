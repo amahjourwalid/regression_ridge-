{
 "cells": [
  {
   "cell_type": "code",
   "execution_count": 1,
   "metadata": {},
   "outputs": [],
   "source": [
    "#matrice de regression\n",
    "import numpy as np\n",
    "global n\n",
    "def prep_mat(Z,h):\n",
    "    \"\"\"\n",
    "    Arguments:\n",
    "    Z vecteur (serie temporelle)\n",
    "    h horizon entier positive inferieur à la longueur de Z\n",
    "    Returns:\n",
    "    Mat_X  matrice de dimension nxp\n",
    "    \"\"\"\n",
    "    n=len(Z)-h #p ici coincide avec h\n",
    "    T=np.zeros((n,h))\n",
    "    for i in range(n):\n",
    "        l=Z[len(Z)-1-h-i:len(Z)-i-1]\n",
    "        T[i:]=l[::-1]\n",
    "        Mat_X=T[:,0:h]\n",
    "\n",
    "    return Mat_X\n",
    "#matrice de la métrique\n",
    "import math \n",
    "def metr_retard(α,β,h):\n",
    "    M=np.eye(h) #métrique pour la norme de b\n",
    "    for j in range(h) :\n",
    "          M[j,j]  = math.exp(α+ j*β)\n",
    "    return M\n",
    "\n",
    "def metr(n):\n",
    "    W=np.eye(n) #métrique pour calculer les produits scalaires entre séries\n",
    "    for j in range(n) :\n",
    "          W[j,j]  = 1/n\n",
    "    return W\n",
    "\n",
    "# regression ridge\n",
    "def ridge(Z,Y,λ,h,α,β):\n",
    "    global n\n",
    "    \"\"\"\"\n",
    "    Arguments : \n",
    "    Z     : vecteur (série temporelle)\n",
    "    Y     : vecteur (série temporelle)\n",
    "    λ     : facteurs de pénalisation \n",
    "    h     : horizon \n",
    "    (α,β) : des reels positives pour construir la matrice de la metrique \n",
    "    returns:\n",
    "    b     : estimateur de ridge \n",
    "    \"\"\"\n",
    "    \n",
    "    \n",
    "    n=len(Z)-h\n",
    "    M=metr_retard(α,β,h)# métrique M\n",
    "    x=prep_mat(Z,h)# la matrice X(t-1,t-h)\n",
    "    W=metr(n)     #la etrique du produit scalaire \n",
    "    \n",
    "    # ajustement  de la dimension de Y\n",
    "    T=Y[h:len(Z)]\n",
    "    y=T[::-1]#les h derniers coeficients de y\n",
    "    \n",
    "    #calcul de l'estimateur de ridge (X'WX+λM)^(-1)X'Wy\n",
    "    \n",
    "    J1=np.transpose(x).dot(W) \n",
    "    J2=J1.dot(x)\n",
    "    B=np.linalg.inv(J2+λ*M)\n",
    "    b1=B.dot(np.transpose(x))\n",
    "    b2=b1.dot(W)\n",
    "    b=b2.dot(y)\n",
    "    return b\n",
    "# fonction qui fait une seule prevision \n",
    "def Prev(Z,λ,h,α,β):\n",
    "    \"\"\"\n",
    "    Arguments : \n",
    "    Z     : vecteur (série temporelle)\n",
    "    Zp    : valeur à prédire (entiers)\n",
    "    Y     : vecteur (série temporelle)\n",
    "    λ     : facteurs de pénalisation \n",
    "    h     : horizon \n",
    "    (α,β) : des reels positives pour construir la matrice de la metrique \n",
    "    returns:\n",
    "    Zp    : valeur à prédire (entiers)\n",
    "    \n",
    "    \"\"\"\n",
    "    ## nouveau vecteur de contenant la valeur Z_t\n",
    "    g=len(Z)\n",
    "    t=Z[g-h:g]\n",
    "    p=t[::-1]\n",
    "    Zt=np.array(p)\n",
    "    #prevision de Z(t+1)\n",
    "    b=ridge(Z,Z,λ,h,α,β)\n",
    "    Zp=Zt.dot(np.transpose(b))\n",
    "    return Zp\n",
    "\n",
    "# prévision des p futures valeurs \n",
    "\n",
    "def Prev_p(Z,λ,h,α,β,p):\n",
    "    \"\"\"\n",
    "    Arguments : \n",
    "    Z     : vecteur (série temporelle)\n",
    "    Zp    : valeur à prédire (entiers)\n",
    "    Y     : vecteur (série temporelle)\n",
    "    λ     : facteurs de pénalisation \n",
    "    h     : horizon \n",
    "    p     : nombre de valeurs à prédire \n",
    "    (α,β) : des reels positives pour construir la matrice de la metrique \n",
    "    returns:\n",
    "    p_predicted_values :vecteurs contient les  p valeurs à prédire (entiers)\n",
    "    \n",
    "    \"\"\"\n",
    "    np.array(Z)\n",
    "    Zp=Prev(Z,λ,h,α,β)\n",
    "    p_predicted_values=list(range(p))\n",
    "    for i in range(p) :\n",
    "         p_predicted_values[i]=Zp\n",
    "         Z=Z+[Zp]\n",
    "         Zp=Prev(Z,λ,h,α,β)\n",
    "         i=i+1\n",
    "    return p_predicted_values\n",
    "        \n",
    "# fonction de l'érreur quadratique moyenne\n",
    "def MSE(b_ridge,b_real):\n",
    "    np.array(b_ridge)\n",
    "    np.array(b_real)\n",
    "    mse=0\n",
    "    for i in range(len(b_real)):\n",
    "        mse=mse + (b_ridge[i]-b_real[i])**2\n",
    "        i=i+1\n",
    "    MSE=mse/len(b_real)\n",
    "   \n",
    "    return MSE\n",
    "       \n",
    "# validation croisée \n",
    "def cross_validation (Z,h,α,β):\n",
    "\n",
    "    \n",
    "    \"\"\"\n",
    "    \n",
    "    fonction qui calcule l'estimateur de ridge pour plusier valeur de λ sur l'ensemble de training \n",
    "    (75% des valeurs de la série).\n",
    "    calcule les predictions des K valeurs manquantes selon chaque modèle  \n",
    "    \n",
    "    \n",
    "    Arguments :\n",
    "    Z         :Vecteur (série temporelle)\n",
    "    h         : horizon entier ne doit pas depasser len(Z)-K\n",
    "    (α,β)     : des reels positives pour construir la matrice de la metrique\n",
    "    \n",
    "    returns   : \n",
    "    mse       : vecteur qui contient les erreurs quadratiques moyennes commise \n",
    "    Min_mse   : le minimum du vecteur mse \n",
    "    meilleur_lamda: le lambda du meilleure modèle par la validation croisée \n",
    "    \"\"\"\n",
    "    \n",
    "    lamda=[0.01,0.02,0.03,0.04,0.05,0.06,0.07,0.08,0.09,0.1,0.2,0.3]\n",
    "    mse=[0.01,0.02,0.03,0.04,0.05,0.06,0.07,0.08,0.09,0.1,0.2,0.3]#\n",
    "    for i in range(len(lamda)):\n",
    "        K=int(len(Z)*25/100)\n",
    "        Z_test=Z[len(Z)-K:len(Z)]#tester la qualité de modéle\n",
    "        Z_train=Z[:len(Z)-K]#vecteur qui contient 75% des valeurs de la série pour calculer l'éstimateur de ridge\n",
    "        λ=lamda[i]\n",
    "        #prep_mat(Z_train,h)\n",
    "        b_train=ridge(Z_train,Z_train,λ,h,α,β)\n",
    "        #print(\"b\",i,b_train)\n",
    "        zp=Prev_p(Z_train,λ,h,α,β,K)\n",
    "        #print(\"Zp\",i,zp)\n",
    "        theta=MSE(Z_test,zp)\n",
    "        mse[i]=theta\n",
    "    print(mse)\n",
    "    Min_mse=min(mse)\n",
    "    index_lamda=mse.index(min(mse))\n",
    "    meilleur_lamda=lamda[index_lamda]\n",
    "    return Min_mse , meilleur_lamda\n"
   ]
  },
  {
   "cell_type": "code",
   "execution_count": 2,
   "metadata": {},
   "outputs": [
    {
     "data": {
      "text/html": [
       "<div>\n",
       "<style scoped>\n",
       "    .dataframe tbody tr th:only-of-type {\n",
       "        vertical-align: middle;\n",
       "    }\n",
       "\n",
       "    .dataframe tbody tr th {\n",
       "        vertical-align: top;\n",
       "    }\n",
       "\n",
       "    .dataframe thead th {\n",
       "        text-align: right;\n",
       "    }\n",
       "</style>\n",
       "<table border=\"1\" class=\"dataframe\">\n",
       "  <thead>\n",
       "    <tr style=\"text-align: right;\">\n",
       "      <th></th>\n",
       "      <th>T</th>\n",
       "      <th>X</th>\n",
       "    </tr>\n",
       "  </thead>\n",
       "  <tbody>\n",
       "    <tr>\n",
       "      <td>0</td>\n",
       "      <td>0</td>\n",
       "      <td>2.014602</td>\n",
       "    </tr>\n",
       "    <tr>\n",
       "      <td>1</td>\n",
       "      <td>1</td>\n",
       "      <td>2.044057</td>\n",
       "    </tr>\n",
       "    <tr>\n",
       "      <td>2</td>\n",
       "      <td>2</td>\n",
       "      <td>2.017678</td>\n",
       "    </tr>\n",
       "    <tr>\n",
       "      <td>3</td>\n",
       "      <td>3</td>\n",
       "      <td>1.886158</td>\n",
       "    </tr>\n",
       "    <tr>\n",
       "      <td>4</td>\n",
       "      <td>4</td>\n",
       "      <td>1.815373</td>\n",
       "    </tr>\n",
       "    <tr>\n",
       "      <td>...</td>\n",
       "      <td>...</td>\n",
       "      <td>...</td>\n",
       "    </tr>\n",
       "    <tr>\n",
       "      <td>95</td>\n",
       "      <td>95</td>\n",
       "      <td>1.800795</td>\n",
       "    </tr>\n",
       "    <tr>\n",
       "      <td>96</td>\n",
       "      <td>96</td>\n",
       "      <td>1.961917</td>\n",
       "    </tr>\n",
       "    <tr>\n",
       "      <td>97</td>\n",
       "      <td>97</td>\n",
       "      <td>1.959516</td>\n",
       "    </tr>\n",
       "    <tr>\n",
       "      <td>98</td>\n",
       "      <td>98</td>\n",
       "      <td>1.794639</td>\n",
       "    </tr>\n",
       "    <tr>\n",
       "      <td>99</td>\n",
       "      <td>99</td>\n",
       "      <td>1.805775</td>\n",
       "    </tr>\n",
       "  </tbody>\n",
       "</table>\n",
       "<p>100 rows × 2 columns</p>\n",
       "</div>"
      ],
      "text/plain": [
       "     T         X\n",
       "0    0  2.014602\n",
       "1    1  2.044057\n",
       "2    2  2.017678\n",
       "3    3  1.886158\n",
       "4    4  1.815373\n",
       "..  ..       ...\n",
       "95  95  1.800795\n",
       "96  96  1.961917\n",
       "97  97  1.959516\n",
       "98  98  1.794639\n",
       "99  99  1.805775\n",
       "\n",
       "[100 rows x 2 columns]"
      ]
     },
     "execution_count": 2,
     "metadata": {},
     "output_type": "execute_result"
    }
   ],
   "source": [
    "\n",
    "import pandas as pd\n",
    "from pandas import DataFrame\n",
    "%pwd\n",
    "serieX=pd.read_csv('serie X.csv',sep='\t') \n",
    "serieX"
   ]
  },
  {
   "cell_type": "code",
   "execution_count": 20,
   "metadata": {},
   "outputs": [],
   "source": [
    "## pour transformer les données à une liste Z\n",
    "X=serieX['X']\n",
    "Z=X.values.tolist()"
   ]
  },
  {
   "cell_type": "markdown",
   "metadata": {},
   "source": [
    "Calcul de l'éstimateur de ridge pour Z avec h=10 lamba=0.1 alpha=beta=0.1"
   ]
  },
  {
   "cell_type": "code",
   "execution_count": 16,
   "metadata": {},
   "outputs": [
    {
     "data": {
      "text/plain": [
       "array([0.23873001, 0.16001447, 0.13048705, 0.11011548, 0.08279074,\n",
       "       0.06281735, 0.05008926, 0.05168466, 0.05323326, 0.05628282])"
      ]
     },
     "execution_count": 16,
     "metadata": {},
     "output_type": "execute_result"
    }
   ],
   "source": [
    "ridge(Z,Z,0.1,10,0.1,0.1)"
   ]
  },
  {
   "cell_type": "markdown",
   "metadata": {},
   "source": [
    "Validation croisé pour séléctioner le meilleur modéle pour Z, avec h=10, alpha=beta=0.1"
   ]
  },
  {
   "cell_type": "code",
   "execution_count": 21,
   "metadata": {},
   "outputs": [
    {
     "name": "stdout",
     "output_type": "stream",
     "text": [
      "[0.04515156033824156, 0.046717371965107245, 0.047604296982441056, 0.04833263173739299, 0.049024016866788325, 0.049715823215407136, 0.050421215931222126, 0.05114508962481464, 0.05188918937681584, 0.052653980286089495, 0.06137955017601831, 0.07185589104783262]\n"
     ]
    },
    {
     "data": {
      "text/plain": [
       "(0.04515156033824156, 0.01)"
      ]
     },
     "execution_count": 21,
     "metadata": {},
     "output_type": "execute_result"
    }
   ],
   "source": [
    "cross_validation (Z,10,0.1,0.1)"
   ]
  },
  {
   "cell_type": "markdown",
   "metadata": {},
   "source": [
    "donc le meilleur lambda est égale à 0.01 "
   ]
  },
  {
   "cell_type": "markdown",
   "metadata": {},
   "source": [
    "éstimation des 5 prochaines valeurs da la série avec le lambda sélécioné par la validation croisé "
   ]
  },
  {
   "cell_type": "code",
   "execution_count": 22,
   "metadata": {},
   "outputs": [
    {
     "data": {
      "text/plain": [
       "[1.775507351471486,\n",
       " 1.7596314469518677,\n",
       " 1.740024305881777,\n",
       " 1.728335958934943,\n",
       " 1.7150109725099996]"
      ]
     },
     "execution_count": 22,
     "metadata": {},
     "output_type": "execute_result"
    }
   ],
   "source": [
    "Prev_p(Z,1,10,0.1,0.1,5)"
   ]
  }
 ],
 "metadata": {
  "kernelspec": {
   "display_name": "Python 3",
   "language": "python",
   "name": "python3"
  },
  "language_info": {
   "codemirror_mode": {
    "name": "ipython",
    "version": 3
   },
   "file_extension": ".py",
   "mimetype": "text/x-python",
   "name": "python",
   "nbconvert_exporter": "python",
   "pygments_lexer": "ipython3",
   "version": "3.7.4"
  }
 },
 "nbformat": 4,
 "nbformat_minor": 2
}
