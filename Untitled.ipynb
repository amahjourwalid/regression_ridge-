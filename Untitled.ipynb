{
 "cells": [
  {
   "cell_type": "code",
   "execution_count": 314,
   "metadata": {},
   "outputs": [],
   "source": [
    "#matrice de regression \n",
    "import numpy as np\n",
    "def prep_mat(X,h):\n",
    "    \"\"\"\n",
    "    Arguments:\n",
    "    X array\n",
    "    h horizon positive integer \n",
    "    Returns \n",
    "    B list of lists \n",
    "    \"\"\"\n",
    "    p=len(X)-h\n",
    "    M=np.zeros((h,h))\n",
    "    for i in range(len(X)-h):\n",
    "        l=X[len(X)-h-i:len(X)-i]\n",
    "        M[i:]=l[::-1]\n",
    "    B=np.transpose(M)\n",
    "    C=B[:,0:p]\n",
    "\n",
    "    return C\n",
    "\n",
    "\n",
    "\n",
    "#matrice de la métrique\n",
    "\n",
    "import math \n",
    "def metr(a,b,h):\n",
    "    M=np.eye(h)\n",
    "    for j in range(h) :\n",
    "          M[j,j]  = math.exp(a + j*b)\n",
    "    return M\n",
    "\n",
    "\n",
    "# regression ridge\n",
    "def ridge(X,Y,l,h,a,b):\n",
    "    \"\"\"\"\n",
    "    Arguments : \n",
    "    (X,Y) :une serie temporelle\n",
    "    l     :facteurs de pénalisation \n",
    "    h     : horizon (pour le moment doit etre entre 1 et n/2 ou n est la dimension de la serie )\n",
    "    (a,b) :des reels positives pour construir la matrice metrique \n",
    "    \"\"\"\n",
    "    M=metr(a,b,h)#métrique\n",
    "    C=prep_mat(X,h)#la matrice X(t-1,t-h)\n",
    "    # reglage de la dimension de Y\n",
    "    T=Y[len(X)-h:len(X)]\n",
    "    y=T[::-1]#les h derniers coeficients de y\n",
    "    #calcul de l'estimateur de ridge (X'MX+lM)^(-1)X'My\n",
    "    J1=np.transpose(C).dot(M) \n",
    "    J2=J1.dot(C)\n",
    "    B=np.linalg.inv(J2+l*M)\n",
    "    b1=B.dot(np.transpose(C))\n",
    "    b2=b1.dot(M)\n",
    "    b3=b1.dot(y)\n",
    "    return b3\n"
   ]
  },
  {
   "cell_type": "code",
   "execution_count": 315,
   "metadata": {},
   "outputs": [
    {
     "data": {
      "text/plain": [
       "array([[10.,  9.,  8.,  7.,  6.,  5.,  4.,  3.,  2.],\n",
       "       [ 9.,  8.,  7.,  6.,  5.,  4.,  3.,  2.,  1.],\n",
       "       [ 8.,  7.,  6.,  5.,  4.,  3.,  2.,  1.,  8.],\n",
       "       [ 7.,  6.,  5.,  4.,  3.,  2.,  1.,  8.,  7.],\n",
       "       [ 6.,  5.,  4.,  3.,  2.,  1.,  8.,  7.,  6.],\n",
       "       [ 5.,  4.,  3.,  2.,  1.,  8.,  7.,  6.,  5.],\n",
       "       [ 4.,  3.,  2.,  1.,  8.,  7.,  6.,  5.,  4.],\n",
       "       [ 3.,  2.,  1.,  8.,  7.,  6.,  5.,  4.,  3.],\n",
       "       [ 2.,  1.,  8.,  7.,  6.,  5.,  4.,  3.,  2.]])"
      ]
     },
     "execution_count": 315,
     "metadata": {},
     "output_type": "execute_result"
    }
   ],
   "source": [
    "X=[1,2,3,4,5,6,7,8,1,2,3,4,5,6,7,8,9,10]\n",
    "prep_mat(X,9)"
   ]
  },
  {
   "cell_type": "code",
   "execution_count": 317,
   "metadata": {},
   "outputs": [
    {
     "data": {
      "text/plain": [
       "array([[ 1.        ,  0.        ,  0.        ,  0.        ],\n",
       "       [ 0.        ,  2.71828183,  0.        ,  0.        ],\n",
       "       [ 0.        ,  0.        ,  7.3890561 ,  0.        ],\n",
       "       [ 0.        ,  0.        ,  0.        , 20.08553692]])"
      ]
     },
     "execution_count": 317,
     "metadata": {},
     "output_type": "execute_result"
    }
   ],
   "source": [
    "metr(0,1,4)"
   ]
  },
  {
   "cell_type": "code",
   "execution_count": 318,
   "metadata": {},
   "outputs": [
    {
     "data": {
      "text/plain": [
       "array([-0.45891953,  0.57893634,  0.01863889,  0.01838103,  0.01759763,\n",
       "        0.01337144, -0.00712176, -0.02053234, -0.01042113])"
      ]
     },
     "execution_count": 318,
     "metadata": {},
     "output_type": "execute_result"
    }
   ],
   "source": [
    "Y=[2,3,22,1,4,5,1,6,1,2,3,4,5,6,7,8,9,10]\n",
    "b=ridge(X,Y,1,9,1,1)\n",
    "b"
   ]
  },
  {
   "cell_type": "code",
   "execution_count": 319,
   "metadata": {},
   "outputs": [
    {
     "ename": "AttributeError",
     "evalue": "module 'matplotlib' has no attribute 'figure'",
     "output_type": "error",
     "traceback": [
      "\u001b[1;31m---------------------------------------------------------------------------\u001b[0m",
      "\u001b[1;31mAttributeError\u001b[0m                            Traceback (most recent call last)",
      "\u001b[1;32m<ipython-input-319-887a91d16928>\u001b[0m in \u001b[0;36m<module>\u001b[1;34m\u001b[0m\n\u001b[0;32m      2\u001b[0m \u001b[0mYr\u001b[0m\u001b[1;33m=\u001b[0m\u001b[0mprep_mat\u001b[0m\u001b[1;33m(\u001b[0m\u001b[0mX\u001b[0m\u001b[1;33m,\u001b[0m\u001b[1;36m9\u001b[0m\u001b[1;33m)\u001b[0m\u001b[1;33m.\u001b[0m\u001b[0mdot\u001b[0m\u001b[1;33m(\u001b[0m\u001b[0mb\u001b[0m\u001b[1;33m)\u001b[0m\u001b[1;33m\u001b[0m\u001b[1;33m\u001b[0m\u001b[0m\n\u001b[0;32m      3\u001b[0m \u001b[1;33m\u001b[0m\u001b[0m\n\u001b[1;32m----> 4\u001b[1;33m \u001b[0mfig\u001b[0m \u001b[1;33m=\u001b[0m \u001b[0mplt\u001b[0m\u001b[1;33m.\u001b[0m\u001b[0mfigure\u001b[0m\u001b[1;33m(\u001b[0m\u001b[1;33m)\u001b[0m\u001b[1;33m\u001b[0m\u001b[1;33m\u001b[0m\u001b[0m\n\u001b[0m\u001b[0;32m      5\u001b[0m \u001b[0mx\u001b[0m \u001b[1;33m=\u001b[0m \u001b[0mnp\u001b[0m\u001b[1;33m.\u001b[0m\u001b[0marange\u001b[0m\u001b[1;33m(\u001b[0m\u001b[1;36m9\u001b[0m\u001b[1;33m)\u001b[0m\u001b[1;33m\u001b[0m\u001b[1;33m\u001b[0m\u001b[0m\n\u001b[0;32m      6\u001b[0m \u001b[0my\u001b[0m \u001b[1;33m=\u001b[0m \u001b[0mYr\u001b[0m\u001b[1;33m\u001b[0m\u001b[1;33m\u001b[0m\u001b[0m\n",
      "\u001b[1;31mAttributeError\u001b[0m: module 'matplotlib' has no attribute 'figure'"
     ]
    }
   ],
   "source": [
    "import matplotlib as plt\n",
    "Yr=prep_mat(X,9).dot(b)\n",
    "\n",
    "fig = plt.figure()\n",
    "x = np.arange(9)\n",
    "y = Yr\n",
    "plt.fig(x, y, xerr=0.1, xlolims=True, label='xlolims=True')\n",
    "plt.show()\n"
   ]
  }
 ],
 "metadata": {
  "kernelspec": {
   "display_name": "Python 3",
   "language": "python",
   "name": "python3"
  },
  "language_info": {
   "codemirror_mode": {
    "name": "ipython",
    "version": 3
   },
   "file_extension": ".py",
   "mimetype": "text/x-python",
   "name": "python",
   "nbconvert_exporter": "python",
   "pygments_lexer": "ipython3",
   "version": "3.7.4"
  }
 },
 "nbformat": 4,
 "nbformat_minor": 2
}
